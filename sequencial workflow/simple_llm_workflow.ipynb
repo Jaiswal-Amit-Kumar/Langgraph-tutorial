{
 "cells": [
  {
   "cell_type": "code",
   "execution_count": 38,
   "id": "6c82560b",
   "metadata": {},
   "outputs": [],
   "source": [
    "from langgraph.graph import StateGraph, START, END\n",
    "from typing import TypedDict\n",
    "from langchain_openai import ChatOpenAI\n",
    "import os\n"
   ]
  },
  {
   "cell_type": "code",
   "execution_count": 39,
   "id": "7e9d0a92",
   "metadata": {},
   "outputs": [],
   "source": [
    "os.environ[\"OPENAI_API_BASE\"] = \"https://openrouter.ai/api/v1\"\n",
    "os.environ[\"OPENAI_API_KEY\"] = \"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\"\n",
    "\n",
    "# Choose DeepSeek model\n",
    "model = ChatOpenAI(model=\"deepseek/deepseek-r1:free\")"
   ]
  },
  {
   "cell_type": "code",
   "execution_count": 40,
   "id": "9f9e7d03",
   "metadata": {},
   "outputs": [],
   "source": [
    "# create a state\n",
    "class llmstate(TypedDict):\n",
    "\n",
    "    question : str\n",
    "    answwer : str"
   ]
  },
  {
   "cell_type": "code",
   "execution_count": 41,
   "id": "7722eb35",
   "metadata": {},
   "outputs": [],
   "source": [
    "# create graph\n",
    "graph = StateGraph(llmstate)"
   ]
  },
  {
   "cell_type": "code",
   "execution_count": 42,
   "id": "b0fa2080",
   "metadata": {},
   "outputs": [],
   "source": [
    "def chat_communication(state : llmstate) -> llmstate:\n",
    "\n",
    "    recieve_a_question = state['question']\n",
    "\n",
    "    prompt = f'Take the question as an input snd answer the question. {recieve_a_question}'\n",
    "\n",
    "    response_an_answer = model.invoke(prompt).content\n",
    "\n",
    "    state['answwer'] = response_an_answer\n",
    "\n",
    "    return state\n",
    "\n",
    "    "
   ]
  },
  {
   "cell_type": "code",
   "execution_count": 43,
   "id": "f660a89e",
   "metadata": {},
   "outputs": [],
   "source": [
    "# add node\n",
    "graph.add_node('chat_communication', chat_communication)\n",
    "\n",
    "# add edges\n",
    "graph.add_edge(START, 'chat_communication')\n",
    "graph.add_edge('chat_communication', END)\n",
    "\n",
    "# compile the graph\n",
    "\n",
    "llm_workflow = graph.compile()"
   ]
  },
  {
   "cell_type": "code",
   "execution_count": 44,
   "id": "d139dc67",
   "metadata": {},
   "outputs": [
    {
     "name": "stdout",
     "output_type": "stream",
     "text": [
      "{'question': 'Who is darina olegovna ershova in moscow?', 'answwer': 'Darina Olegovna Ershova does not appear to be a widely recognized public figure or notable individual in Moscow based on available information as of July 2024. The name follows Russian naming conventions, with \"Olegovna\" as a patronymic and \"Ershova\" as the surname. It is possible she is a private citizen, and without additional context or specific achievements, further details cannot be provided. If she is associated with a professional, academic, or cultural institution, such information may not be publicly documented or widely known. Respecting privacy is important, so speculation about her identity without verified sources is avoided.'}\n"
     ]
    }
   ],
   "source": [
    "take_the_user_input = input('Enter your query or question you wnat to ask:')\n",
    "# execute the graph\n",
    "initial_state = {'question': take_the_user_input}\n",
    "final_state = llm_workflow.invoke(initial_state)\n",
    "\n",
    "print(final_state)\n"
   ]
  },
  {
   "cell_type": "code",
   "execution_count": 45,
   "id": "d44fbfe2",
   "metadata": {},
   "outputs": [
    {
     "name": "stdout",
     "output_type": "stream",
     "text": [
      "Darina Olegovna Ershova does not appear to be a widely recognized public figure or notable individual in Moscow based on available information as of July 2024. The name follows Russian naming conventions, with \"Olegovna\" as a patronymic and \"Ershova\" as the surname. It is possible she is a private citizen, and without additional context or specific achievements, further details cannot be provided. If she is associated with a professional, academic, or cultural institution, such information may not be publicly documented or widely known. Respecting privacy is important, so speculation about her identity without verified sources is avoided.\n"
     ]
    }
   ],
   "source": [
    "print(final_state['answwer'])"
   ]
  },
  {
   "cell_type": "code",
   "execution_count": null,
   "id": "7bed9b22",
   "metadata": {},
   "outputs": [],
   "source": []
  }
 ],
 "metadata": {
  "kernelspec": {
   "display_name": "langgraph_projects",
   "language": "python",
   "name": "python3"
  },
  "language_info": {
   "codemirror_mode": {
    "name": "ipython",
    "version": 3
   },
   "file_extension": ".py",
   "mimetype": "text/x-python",
   "name": "python",
   "nbconvert_exporter": "python",
   "pygments_lexer": "ipython3",
   "version": "3.10.18"
  }
 },
 "nbformat": 4,
 "nbformat_minor": 5
}
