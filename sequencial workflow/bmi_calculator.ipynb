{
 "cells": [
  {
   "cell_type": "code",
   "execution_count": 26,
   "id": "5f9c9c50",
   "metadata": {},
   "outputs": [],
   "source": [
    "from langgraph.graph import StateGraph, START, END\n",
    "from typing import TypedDict"
   ]
  },
  {
   "cell_type": "code",
   "execution_count": 27,
   "id": "58c258d3",
   "metadata": {},
   "outputs": [],
   "source": [
    "# define state\n",
    "class bmistate(TypedDict):\n",
    "    height : float\n",
    "    weight : float\n",
    "    bmi : float\n",
    "    category : str"
   ]
  },
  {
   "cell_type": "code",
   "execution_count": 28,
   "id": "aa7a904c",
   "metadata": {},
   "outputs": [],
   "source": [
    "# define graph\n",
    "graph = StateGraph(bmistate)"
   ]
  },
  {
   "cell_type": "code",
   "execution_count": 29,
   "id": "a155bb0b",
   "metadata": {},
   "outputs": [],
   "source": [
    "def calculate_bmi(state: bmistate) -> bmistate:\n",
    "\n",
    "    height = state[\"height\"]\n",
    "    weight = state[\"weight\"]\n",
    "\n",
    "    bmi = weight / (height ** 2)\n",
    "\n",
    "    state[\"bmi\"] = round(bmi, 2)\n",
    "\n",
    "    return state"
   ]
  },
  {
   "cell_type": "code",
   "execution_count": 30,
   "id": "83a0fc0c",
   "metadata": {},
   "outputs": [],
   "source": [
    "def category(state: bmistate) -> bmistate:\n",
    "\n",
    "    bmi_category = state[\"bmi\"]\n",
    "    if bmi_category < 18.5:\n",
    "        state[\"category\"] = \"Underweight\"\n",
    "    elif 18.5 <= bmi_category < 25:\n",
    "        state[\"category\"] = \"Normal\"\n",
    "    elif 25 <= bmi_category < 30:\n",
    "        state[\"category\"] = \"Overweight\"\n",
    "    else:\n",
    "        state[\"category\"] = \"Obese\"\n",
    "\n",
    "    return state\n"
   ]
  },
  {
   "cell_type": "code",
   "execution_count": 31,
   "id": "cead7c34",
   "metadata": {},
   "outputs": [],
   "source": [
    "# add nodes to the graph\n",
    "graph.add_node('calculate_bmi', calculate_bmi)\n",
    "graph.add_node('category', category)\n",
    "\n",
    "# add edges to the graph\n",
    "graph.add_edge(START, 'calculate_bmi')\n",
    "graph.add_edge('calculate_bmi', 'category')\n",
    "graph.add_edge('category', END)\n",
    "\n",
    "# compile the graph\n",
    "workflow = graph.compile()"
   ]
  },
  {
   "cell_type": "code",
   "execution_count": 34,
   "id": "deb7fb39",
   "metadata": {},
   "outputs": [
    {
     "name": "stdout",
     "output_type": "stream",
     "text": [
      "{'height': 1.66, 'weight': 77.5, 'bmi': 28.12, 'category': 'Overweight'}\n"
     ]
    }
   ],
   "source": [
    "# execute the graph\n",
    "weight_kg = float(input(\"Enter the weight in kilogram:\"))\n",
    "height_m = float(input(\"Enter the height in meters:\"))\n",
    "initial_state = {'weight': weight_kg, 'height': height_m}\n",
    "final_state = workflow.invoke(initial_state)\n",
    "print(final_state)"
   ]
  },
  {
   "cell_type": "markdown",
   "id": "e9ee9173",
   "metadata": {},
   "source": []
  },
  {
   "cell_type": "code",
   "execution_count": null,
   "id": "83ebd004",
   "metadata": {},
   "outputs": [],
   "source": []
  }
 ],
 "metadata": {
  "kernelspec": {
   "display_name": "langgraph_projects",
   "language": "python",
   "name": "python3"
  },
  "language_info": {
   "codemirror_mode": {
    "name": "ipython",
    "version": 3
   },
   "file_extension": ".py",
   "mimetype": "text/x-python",
   "name": "python",
   "nbconvert_exporter": "python",
   "pygments_lexer": "ipython3",
   "version": "3.10.18"
  }
 },
 "nbformat": 4,
 "nbformat_minor": 5
}
