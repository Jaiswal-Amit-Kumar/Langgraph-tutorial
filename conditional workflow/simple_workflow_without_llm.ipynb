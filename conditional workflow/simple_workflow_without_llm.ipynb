{
 "cells": [
  {
   "cell_type": "code",
   "execution_count": 22,
   "id": "90df5cd3",
   "metadata": {},
   "outputs": [],
   "source": [
    "from langgraph.graph import StateGraph, START, END\n",
    "from typing import TypedDict, Literal"
   ]
  },
  {
   "cell_type": "code",
   "execution_count": 23,
   "id": "ee2a3c04",
   "metadata": {},
   "outputs": [],
   "source": [
    "# create state\n",
    "class quaderatic_equation(TypedDict):\n",
    "\n",
    "    a : int\n",
    "    b : int\n",
    "    c : int\n",
    "\n",
    "    equation : str\n",
    "    discriminant : float\n",
    "    result : str"
   ]
  },
  {
   "cell_type": "code",
   "execution_count": 24,
   "id": "fcfe4b83",
   "metadata": {},
   "outputs": [],
   "source": [
    "# create graph\n",
    "graph = StateGraph(quaderatic_equation)"
   ]
  },
  {
   "cell_type": "code",
   "execution_count": 25,
   "id": "39660d1a",
   "metadata": {},
   "outputs": [],
   "source": [
    "def show_equation(state : quaderatic_equation) -> quaderatic_equation:\n",
    "\n",
    "    equation = f'{state[\"a\"]} x 2 {state[\"b\"]} x {state[\"c\"]}'\n",
    "\n",
    "    return {'equation':equation}\n",
    "\n",
    "def calculate_equation(state : quaderatic_equation) -> quaderatic_equation:\n",
    "\n",
    "    discriminant = state['b']**2 - (4*state['a']*state['c'])\n",
    "\n",
    "    return {'discriminant' : discriminant}\n",
    "\n",
    "def real_roots(state : quaderatic_equation) -> quaderatic_equation:\n",
    "    \n",
    "    root1 = (-state['b'] + state['discriminant']**0.5)/(2*state['a'])\n",
    "    root2 = (-state['b'] - state['discriminant']**0.5)/(2*state['a'])\n",
    "\n",
    "    result = f'The roots are {root1} and {root2}'\n",
    "\n",
    "    return {'result':result}\n",
    "\n",
    "def repeated_roots(state : quaderatic_equation) -> quaderatic_equation:\n",
    "\n",
    "    root = (-state['b'])/(2*state['a'])\n",
    "\n",
    "    result = f'Only repeating root is {root}'\n",
    "\n",
    "    return {'result':result}\n",
    "\n",
    "def noroots(state : quaderatic_equation) -> quaderatic_equation:\n",
    "\n",
    "    result = f'No real roots'\n",
    "\n",
    "    return {'result':result}\n",
    "\n",
    "def check_condition(state : quaderatic_equation) -> Literal['real_roots', 'repeated_roots', 'noroots']:\n",
    "\n",
    "    if state['discriminant'] > 0:\n",
    "        return 'real_roots'\n",
    "    elif state['discriminant'] == 0:\n",
    "        return 'repeated_roots'\n",
    "    else:\n",
    "        return 'noroots' \n"
   ]
  },
  {
   "cell_type": "code",
   "execution_count": 26,
   "id": "bc40cb3e",
   "metadata": {},
   "outputs": [],
   "source": [
    "# add nodes\n",
    "graph.add_node('show_equation', show_equation)\n",
    "graph.add_node('calculate_equation', calculate_equation)\n",
    "graph.add_node('noroots', noroots)\n",
    "graph.add_node('repeated_roots', repeated_roots)\n",
    "graph.add_node('real_roots', real_roots)\n",
    "\n",
    "graph.add_edge(START, 'show_equation')\n",
    "graph.add_edge('show_equation', 'calculate_equation')\n",
    "graph.add_conditional_edges('calculate_equation', check_condition)\n",
    "graph.add_edge('noroots', END)\n",
    "graph.add_edge('repeated_roots', END)\n",
    "graph.add_edge('real_roots', END)\n",
    "\n",
    "# compile graph\n",
    "workflow = graph.compile()\n"
   ]
  },
  {
   "cell_type": "code",
   "execution_count": 27,
   "id": "d03ec29d",
   "metadata": {},
   "outputs": [
    {
     "data": {
      "image/png": "[encoded data removed]",
      "text/plain": [
       "<langgraph.graph.state.CompiledStateGraph object at 0x000001817D740E20>"
      ]
     },
     "execution_count": 27,
     "metadata": {},
     "output_type": "execute_result"
    }
   ],
   "source": [
    "workflow"
   ]
  },
  {
   "cell_type": "code",
   "execution_count": 28,
   "id": "4d116389",
   "metadata": {},
   "outputs": [
    {
     "name": "stdout",
     "output_type": "stream",
     "text": [
      "{'a': 4, 'b': 2, 'c': 4, 'equation': '4 x 2 2 x 4', 'discriminant': -60, 'result': 'No real roots'}\n"
     ]
    }
   ],
   "source": [
    "# execute the workflow\n",
    "initial_state = {'a':4, 'b':2, 'c':4}\n",
    "final_output = workflow.invoke(initial_state)\n",
    "print(final_output)"
   ]
  },
  {
   "cell_type": "code",
   "execution_count": null,
   "id": "cfecb958",
   "metadata": {},
   "outputs": [],
   "source": []
  }
 ],
 "metadata": {
  "kernelspec": {
   "display_name": "langgraph_projects",
   "language": "python",
   "name": "python3"
  },
  "language_info": {
   "codemirror_mode": {
    "name": "ipython",
    "version": 3
   },
   "file_extension": ".py",
   "mimetype": "text/x-python",
   "name": "python",
   "nbconvert_exporter": "python",
   "pygments_lexer": "ipython3",
   "version": "3.10.18"
  }
 },
 "nbformat": 4,
 "nbformat_minor": 5
}
