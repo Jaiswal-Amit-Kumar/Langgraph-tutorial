{
 "cells": [
  {
   "cell_type": "code",
   "execution_count": 41,
   "id": "42f4f394",
   "metadata": {},
   "outputs": [],
   "source": [
    "from langgraph.graph import StateGraph, START, END\n",
    "from typing import TypedDict, Literal\n",
    "from langchain_openai import ChatOpenAI\n",
    "from pydantic import BaseModel, Field\n",
    "import os"
   ]
  },
  {
   "cell_type": "code",
   "execution_count": 42,
   "id": "1dcfc115",
   "metadata": {},
   "outputs": [],
   "source": [
    "os.environ[\"OPENAI_API_BASE\"] = \"https://openrouter.ai/api/v1\"\n",
    "os.environ[\"OPENAI_API_KEY\"] = \"Your Own API Key\"\n",
    "\n",
    "model = ChatOpenAI(model=\"deepseek/deepseek-r1:free\")"
   ]
  },
  {
   "cell_type": "code",
   "execution_count": 43,
   "id": "2774deb1",
   "metadata": {},
   "outputs": [],
   "source": [
    "class sentiment_schema(BaseModel):\n",
    "\n",
    "    sentiment : Literal['positive', 'negative'] = Field(description='Sentiment of the review')"
   ]
  },
  {
   "cell_type": "code",
   "execution_count": 44,
   "id": "855aeb8b",
   "metadata": {},
   "outputs": [],
   "source": [
    "class diagnosis_schema(BaseModel):\n",
    "    issue_type : Literal['UX', 'performance', 'bug', 'support', 'others'] = Field(description='The category of the issue mentioned in the review')\n",
    "    tone : Literal['angry', 'frustrated', 'dissapointed', 'calm'] = Field(description='The emotional tone expressed by the user')\n",
    "    urgency : Literal['low', 'medium', 'high'] = Field(description='How urgent or critical the issue appears to be')"
   ]
  },
  {
   "cell_type": "code",
   "execution_count": 45,
   "id": "8780b94b",
   "metadata": {},
   "outputs": [],
   "source": [
    "structured_model = model.with_structured_output(sentiment_schema)\n",
    "structured_model2 = model.with_structured_output(diagnosis_schema)"
   ]
  },
  {
   "cell_type": "code",
   "execution_count": 46,
   "id": "4dc183f1",
   "metadata": {},
   "outputs": [
    {
     "data": {
      "text/plain": [
       "sentiment_schema(sentiment='negative')"
      ]
     },
     "execution_count": 46,
     "metadata": {},
     "output_type": "execute_result"
    }
   ],
   "source": [
    "prompt = f'What is the sentiment of the following review - The software too bad'\n",
    "\n",
    "structured_model.invoke(prompt)"
   ]
  },
  {
   "cell_type": "code",
   "execution_count": 47,
   "id": "6832e112",
   "metadata": {},
   "outputs": [],
   "source": [
    "# define state\n",
    "class review_state(TypedDict):\n",
    "\n",
    "    review : str = Field(description='This is the review for the sentiment analysis')\n",
    "    sentiment : Literal['positive', 'negetive'] = Field(description='Sentiment of the review')\n",
    "    diagnosis : dict\n",
    "    response : str"
   ]
  },
  {
   "cell_type": "code",
   "execution_count": 48,
   "id": "32c8a439",
   "metadata": {},
   "outputs": [],
   "source": [
    "# create graph\n",
    "graph = StateGraph(review_state)"
   ]
  },
  {
   "cell_type": "code",
   "execution_count": 49,
   "id": "50137404",
   "metadata": {},
   "outputs": [],
   "source": [
    "def analyze_sentiment(state : review_state) -> review_state:\n",
    "\n",
    "    prompt = f'For the following review find out the sentiment - \\n {state[\"review\"]}'\n",
    "\n",
    "    sentiment = structured_model.invoke(prompt)\n",
    "\n",
    "    return {'sentiment':sentiment}\n",
    "\n",
    "def check_sentiment(state : review_state) -> Literal['positive_response', 'run_diagnosis']:\n",
    "\n",
    "    if state['sentiment'] == 'positive':\n",
    "        return 'positive_response'\n",
    "    else:\n",
    "        return 'run_diagnosis'\n",
    "\n",
    "def positive_response(state : review_state) -> review_state:\n",
    "\n",
    "    prompt = f'''Write a warm thank you message in response to this review : \\n\\n {state[\"review\"]}\n",
    "\\n and also , kindly ask user to leave feedback on our website.'''\n",
    "\n",
    "    response = model.invoke(prompt)\n",
    "    return{'response':response}\n",
    "    \n",
    "def run_diagnosis(state : review_state) -> review_state:\n",
    "\n",
    "    prompt = f'''Run a diagnosis on the negetive review : \\n\\n {state[\"review\"]}\\n\n",
    "resturn a issue_type, tone and urgency'''\n",
    "    \n",
    "    response = structured_model2.invoke(prompt)\n",
    "    return{'diagnosis':response.model_dump()}\n",
    "\n",
    "def negative_response(state : review_state) -> review_state:\n",
    "\n",
    "    diagnosis = state['diagnosis']\n",
    "\n",
    "    prompt = f'''You are a support assistant. The user had a {diagnosis['issue_type']} issue, \n",
    "    sounded {diagnosis['tone']}, and marked urgent {diagnosis['urgency']}\\n\n",
    "write an empathetic, helpful resolution message.\n",
    "'''\n",
    "    response = model.invoke(prompt)\n",
    "\n",
    "    return{'response':response}"
   ]
  },
  {
   "cell_type": "code",
   "execution_count": 50,
   "id": "e11a2213",
   "metadata": {},
   "outputs": [],
   "source": [
    "# add node\n",
    "graph.add_node('analyze_sentiment', analyze_sentiment)\n",
    "graph.add_node('positive_response', positive_response)\n",
    "graph.add_node('run_diagnosis', run_diagnosis)\n",
    "graph.add_node('negative_response', negative_response)\n",
    "\n",
    "\n",
    "# add edges\n",
    "graph.add_edge(START, 'analyze_sentiment')\n",
    "graph.add_conditional_edges('analyze_sentiment', check_sentiment)\n",
    "graph.add_edge('positive_response', END)\n",
    "graph.add_edge('run_diagnosis', 'negative_response')\n",
    "graph.add_edge('negative_response', END)\n",
    "\n",
    "# compile graph\n",
    "workflow = graph.compile()"
   ]
  },
  {
   "cell_type": "code",
   "execution_count": 51,
   "id": "babd2d2f",
   "metadata": {},
   "outputs": [
    {
     "data": {
      "image/png": "[encoded data removed]",
      "text/plain": [
       "<langgraph.graph.state.CompiledStateGraph object at 0x000001E9EA1AF310>"
      ]
     },
     "execution_count": 51,
     "metadata": {},
     "output_type": "execute_result"
    }
   ],
   "source": [
    "workflow"
   ]
  },
  {
   "cell_type": "code",
   "execution_count": 55,
   "id": "a81bdea4",
   "metadata": {},
   "outputs": [
    {
     "data": {
      "text/plain": [
       "{'review': 'I was really disappointed with this product. It didn’t live up to the expectations at all. The quality felt cheap, and it stopped working properly after just a few days of use. The instructions were unclear, and setup was frustrating. To make matters worse, customer support was unhelpful and slow to respond. For the price, I expected much better performance. Unfortunately, I wouldn’t recommend this to anyone.',\n",
       " 'sentiment': sentiment_schema(sentiment='negative'),\n",
       " 'diagnosis': {'issue_type': 'performance',\n",
       "  'tone': 'dissapointed',\n",
       "  'urgency': 'high'},\n",
       " 'response': AIMessage(content='**Subject:** Re: Urgent High Priority - Performance Issue Follow-Up  \\n\\nHi [Name],  \\n\\nFirst and foremost, I’m truly sorry for the frustration and inconvenience this performance issue has caused. I completely understand how critical smooth operation is for your work, and I want to assure you that resolving this is our top priority right now.  \\n\\nOur team has already begun investigating the root cause, including [specific action being taken, e.g., \"reviewing server logs,\" \"optimizing affected systems,\" or \"collaborating with our technical team\"]. We’re working urgently to implement a solution and will keep you updated every step of the way. You can expect a detailed progress report from us by [specific time/day].  \\n\\nIn the meantime, if there are additional details or specific scenarios you’d like us to prioritize, please let me know—we’re here to support you. Your patience means a lot, and I’m committed to ensuring this gets resolved swiftly and thoroughly.  \\n\\nThank you for bringing this to our attention, and please don’t hesitate to reach out directly with any questions. We’ll be in touch very soon.  \\n\\nWarm regards,  \\n[Your Name]  \\n[Your Role]  \\n[Contact Information]  \\n\\n*P.S. If immediate assistance is needed before our next update, feel free to call me at [phone number]. You’re not alone in this!*  \\n\\n---  \\nThis message balances empathy with action, acknowledges urgency, and sets clear expectations while leaving the door open for further collaboration.', additional_kwargs={'refusal': None}, response_metadata={'token_usage': {'completion_tokens': 533, 'prompt_tokens': 39, 'total_tokens': 572, 'completion_tokens_details': None, 'prompt_tokens_details': None}, 'model_name': 'deepseek/deepseek-r1:free', 'system_fingerprint': None, 'id': 'gen-1754224189-m36FAkiJ7322WuN4BPVX', 'service_tier': None, 'finish_reason': 'stop', 'logprobs': None}, id='run--8418d5c4-6271-4897-91a0-c17080a587bc-0', usage_metadata={'input_tokens': 39, 'output_tokens': 533, 'total_tokens': 572, 'input_token_details': {}, 'output_token_details': {}})}"
      ]
     },
     "execution_count": 55,
     "metadata": {},
     "output_type": "execute_result"
    }
   ],
   "source": [
    "# execute graph\n",
    "initial_state = {'review': 'I was really disappointed with this product. It didn’t live up to the expectations at all. The quality felt cheap, and it stopped working properly after just a few days of use. The instructions were unclear, and setup was frustrating. To make matters worse, customer support was unhelpful and slow to respond. For the price, I expected much better performance. Unfortunately, I wouldn’t recommend this to anyone.'}\n",
    "workflow.invoke(initial_state)"
   ]
  },
  {
   "cell_type": "code",
   "execution_count": null,
   "id": "4de06055",
   "metadata": {},
   "outputs": [],
   "source": []
  }
 ],
 "metadata": {
  "kernelspec": {
   "display_name": "langgraph_projects",
   "language": "python",
   "name": "python3"
  },
  "language_info": {
   "codemirror_mode": {
    "name": "ipython",
    "version": 3
   },
   "file_extension": ".py",
   "mimetype": "text/x-python",
   "name": "python",
   "nbconvert_exporter": "python",
   "pygments_lexer": "ipython3",
   "version": "3.10.18"
  }
 },
 "nbformat": 4,
 "nbformat_minor": 5
}
